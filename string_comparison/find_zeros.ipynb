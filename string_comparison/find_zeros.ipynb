{
 "cells": [
  {
   "cell_type": "markdown",
   "metadata": {},
   "source": [
    "# Find Zeros on the Left"
   ]
  },
  {
   "cell_type": "markdown",
   "metadata": {},
   "source": [
    "## Importing Libraries"
   ]
  },
  {
   "cell_type": "code",
   "execution_count": 1,
   "metadata": {},
   "outputs": [],
   "source": [
    "from numpy.testing import verbose\n",
    "import pandas as pd\n",
    "import numpy as np\n",
    "import scipy as sp\n",
    "from scipy import stats\n",
    "from connecting_db import connection\n",
    "from query_functions import *\n",
    "import re"
   ]
  },
  {
   "cell_type": "markdown",
   "metadata": {},
   "source": [
    "## Functions to remove zeros"
   ]
  },
  {
   "cell_type": "code",
   "execution_count": 2,
   "metadata": {},
   "outputs": [],
   "source": [
    "def is_number(serial: str):\n",
    "    \"\"\"\n",
    "    Function returns False if there is any character that are not a number in the string\n",
    "    \"\"\"\n",
    "    if len(serial)==0:\n",
    "        return False\n",
    "    return len(re.findall('\\D', serial)) == 0\n",
    "\n",
    "def convert_numbers(serial: str):\n",
    "\n",
    "    \"\"\"\n",
    "    If the string contains only numbers, the function returns the converted string to integer\n",
    "    \"\"\"\n",
    "\n",
    "    is_number_bool = is_number(serial)\n",
    "\n",
    "    if is_number_bool:\n",
    "        return int(serial)\n",
    "    else: \n",
    "        return serial"
   ]
  },
  {
   "cell_type": "markdown",
   "metadata": {},
   "source": [
    "## Nlyte pre-processing\n",
    "\n",
    "### Nlyte Reading Data"
   ]
  },
  {
   "cell_type": "code",
   "execution_count": 3,
   "metadata": {},
   "outputs": [],
   "source": [
    "nlyte_query = read_query_file('./query_files/query_maximo_nlyte.sql')\n",
    "\n",
    "nlyte_assets = pd.read_sql_query(nlyte_query, connection)\n"
   ]
  },
  {
   "cell_type": "markdown",
   "metadata": {},
   "source": [
    "### Getting No Zeros\n",
    "\n",
    "Removing zeros on the left of all serial numbers"
   ]
  },
  {
   "cell_type": "code",
   "execution_count": 4,
   "metadata": {},
   "outputs": [],
   "source": [
    "nlyte_assets.SerialNumber = nlyte_assets.SerialNumber.apply(str)\n",
    "nlyte_assets['is_number'] = nlyte_assets.SerialNumber.apply(is_number)\n",
    "nlyte_assets['no_left_zeros'] = nlyte_assets.SerialNumber.apply(convert_numbers)"
   ]
  },
  {
   "cell_type": "markdown",
   "metadata": {},
   "source": [
    "## Pre-processing Maximo\n",
    "\n",
    "### Reading Data"
   ]
  },
  {
   "cell_type": "code",
   "execution_count": 5,
   "metadata": {},
   "outputs": [],
   "source": [
    "maximo = pd.read_excel('./MAXIMO_SHARED_20SET2021.xlsx', sheet_name=\"Sheet1\")"
   ]
  },
  {
   "cell_type": "code",
   "execution_count": 6,
   "metadata": {},
   "outputs": [],
   "source": [
    "columns_to_keep = ['ASSET_NUMBER',\n",
    "'CUSTOMER',\n",
    "'ASSET_STATUS',\n",
    "'MODEL',\n",
    "'REFERENCE_SERIAL_NUMBER',\n",
    "'CITY',\n",
    "'ROOM',\n",
    "'RACK',\n",
    "'KVA',\n",
    "'HW_ELIGIBLE_BY_NLYTE',\n",
    "'HW_NLYTE_HISTORY',\n",
    "'HW_NLYTE_LASTSCAN',\n",
    "'HW_NLYTE_UPDATE',\n",
    "'HW_MATERIAL_NAME',\n",
    "]"
   ]
  },
  {
   "cell_type": "code",
   "execution_count": 7,
   "metadata": {},
   "outputs": [],
   "source": [
    "maximo = maximo.loc[:, columns_to_keep]"
   ]
  },
  {
   "cell_type": "markdown",
   "metadata": {},
   "source": [
    "### Getting No Zeros\n",
    "\n",
    "Removing zeros on the left of all serial numbers"
   ]
  },
  {
   "cell_type": "code",
   "execution_count": 8,
   "metadata": {},
   "outputs": [],
   "source": [
    "maximo.fillna('', inplace=True)"
   ]
  },
  {
   "cell_type": "code",
   "execution_count": 9,
   "metadata": {},
   "outputs": [],
   "source": [
    "maximo.REFERENCE_SERIAL_NUMBER = maximo.REFERENCE_SERIAL_NUMBER.apply(str)"
   ]
  },
  {
   "cell_type": "code",
   "execution_count": 10,
   "metadata": {},
   "outputs": [],
   "source": [
    "maximo['no_left_zeros'] = maximo.REFERENCE_SERIAL_NUMBER.apply(convert_numbers)\n",
    "maximo['is_number'] = maximo.REFERENCE_SERIAL_NUMBER.apply(is_number)"
   ]
  },
  {
   "cell_type": "markdown",
   "metadata": {},
   "source": [
    "## Finding matches on numerical serials\n",
    "\n",
    "### Merging both tables, using nlyte as reference"
   ]
  },
  {
   "cell_type": "code",
   "execution_count": 11,
   "metadata": {},
   "outputs": [],
   "source": [
    "merge= pd.merge(nlyte_assets.query('Description == \"Active\"'), maximo, right_on='no_left_zeros', left_on='no_left_zeros', how='inner')[['BusinessGroupName', 'CUSTOMER','SerialNumber', 'no_left_zeros', 'REFERENCE_SERIAL_NUMBER', 'is_number_x', 'is_number_y']]\n"
   ]
  },
  {
   "attachments": {},
   "cell_type": "markdown",
   "metadata": {},
   "source": [
    "### Condtions to look at\n",
    "\n",
    "1. The serials have to be considered number in both tables\n",
    "2. We are looking only at the entries where the Serial Numbers are different when they are strings. That means, there are leading zeros"
   ]
  },
  {
   "cell_type": "code",
   "execution_count": 12,
   "metadata": {},
   "outputs": [],
   "source": [
    "merge['is_number_both'] = merge.is_number_x & merge.is_number_y\n",
    "\n",
    "\n",
    "merge['is_different_serial'] = merge.SerialNumber != merge.REFERENCE_SERIAL_NUMBER"
   ]
  },
  {
   "cell_type": "code",
   "execution_count": 14,
   "metadata": {},
   "outputs": [
    {
     "data": {
      "text/html": [
       "<div>\n",
       "<style scoped>\n",
       "    .dataframe tbody tr th:only-of-type {\n",
       "        vertical-align: middle;\n",
       "    }\n",
       "\n",
       "    .dataframe tbody tr th {\n",
       "        vertical-align: top;\n",
       "    }\n",
       "\n",
       "    .dataframe thead th {\n",
       "        text-align: right;\n",
       "    }\n",
       "</style>\n",
       "<table border=\"1\" class=\"dataframe\">\n",
       "  <thead>\n",
       "    <tr style=\"text-align: right;\">\n",
       "      <th></th>\n",
       "      <th>SerialNumber</th>\n",
       "      <th>no_left_zeros</th>\n",
       "      <th>REFERENCE_SERIAL_NUMBER</th>\n",
       "      <th>is_number_x</th>\n",
       "      <th>is_number_y</th>\n",
       "      <th>is_number_both</th>\n",
       "      <th>is_different_serial</th>\n",
       "    </tr>\n",
       "  </thead>\n",
       "  <tbody>\n",
       "    <tr>\n",
       "      <th>1416</th>\n",
       "      <td>1801011076</td>\n",
       "      <td>1801011076</td>\n",
       "      <td>001801011076</td>\n",
       "      <td>True</td>\n",
       "      <td>True</td>\n",
       "      <td>True</td>\n",
       "      <td>True</td>\n",
       "    </tr>\n",
       "    <tr>\n",
       "      <th>3401</th>\n",
       "      <td>027054</td>\n",
       "      <td>27054</td>\n",
       "      <td>27054</td>\n",
       "      <td>True</td>\n",
       "      <td>True</td>\n",
       "      <td>True</td>\n",
       "      <td>True</td>\n",
       "    </tr>\n",
       "    <tr>\n",
       "      <th>4041</th>\n",
       "      <td>0002745645</td>\n",
       "      <td>2745645</td>\n",
       "      <td>2745645</td>\n",
       "      <td>True</td>\n",
       "      <td>True</td>\n",
       "      <td>True</td>\n",
       "      <td>True</td>\n",
       "    </tr>\n",
       "    <tr>\n",
       "      <th>5030</th>\n",
       "      <td>13201023685</td>\n",
       "      <td>13201023685</td>\n",
       "      <td>013201023685</td>\n",
       "      <td>True</td>\n",
       "      <td>True</td>\n",
       "      <td>True</td>\n",
       "      <td>True</td>\n",
       "    </tr>\n",
       "    <tr>\n",
       "      <th>5384</th>\n",
       "      <td>274052013000135</td>\n",
       "      <td>274052013000135</td>\n",
       "      <td>0274052013000135</td>\n",
       "      <td>True</td>\n",
       "      <td>True</td>\n",
       "      <td>True</td>\n",
       "      <td>True</td>\n",
       "    </tr>\n",
       "    <tr>\n",
       "      <th>5682</th>\n",
       "      <td>0001846989</td>\n",
       "      <td>1846989</td>\n",
       "      <td>1846989</td>\n",
       "      <td>True</td>\n",
       "      <td>True</td>\n",
       "      <td>True</td>\n",
       "      <td>True</td>\n",
       "    </tr>\n",
       "  </tbody>\n",
       "</table>\n",
       "</div>"
      ],
      "text/plain": [
       "         SerialNumber    no_left_zeros REFERENCE_SERIAL_NUMBER  is_number_x  \\\n",
       "1416       1801011076       1801011076            001801011076         True   \n",
       "3401           027054            27054                   27054         True   \n",
       "4041       0002745645          2745645                 2745645         True   \n",
       "5030      13201023685      13201023685            013201023685         True   \n",
       "5384  274052013000135  274052013000135        0274052013000135         True   \n",
       "5682       0001846989          1846989                 1846989         True   \n",
       "\n",
       "      is_number_y  is_number_both  is_different_serial  \n",
       "1416         True            True                 True  \n",
       "3401         True            True                 True  \n",
       "4041         True            True                 True  \n",
       "5030         True            True                 True  \n",
       "5384         True            True                 True  \n",
       "5682         True            True                 True  "
      ]
     },
     "execution_count": 14,
     "metadata": {},
     "output_type": "execute_result"
    }
   ],
   "source": [
    "merge.query('is_number_both == True and is_different_serial == True').iloc[:, 2:]"
   ]
  },
  {
   "cell_type": "code",
   "execution_count": 15,
   "metadata": {},
   "outputs": [],
   "source": [
    "merge.query('is_number_both == True and is_different_serial == True').to_excel('left_zeros.xlsx', index=False)"
   ]
  },
  {
   "cell_type": "code",
   "execution_count": 16,
   "metadata": {},
   "outputs": [
    {
     "data": {
      "text/plain": [
       "(5686, 9)"
      ]
     },
     "execution_count": 16,
     "metadata": {},
     "output_type": "execute_result"
    }
   ],
   "source": [
    "merge.shape"
   ]
  }
 ],
 "metadata": {
  "kernelspec": {
   "display_name": "Python 3",
   "language": "python",
   "name": "python3"
  },
  "language_info": {
   "codemirror_mode": {
    "name": "ipython",
    "version": 3
   },
   "file_extension": ".py",
   "mimetype": "text/x-python",
   "name": "python",
   "nbconvert_exporter": "python",
   "pygments_lexer": "ipython3",
   "version": "3.9.13"
  },
  "orig_nbformat": 4,
  "vscode": {
   "interpreter": {
    "hash": "c0c70a28a227543aad0504f3c554e6fac9e03c6a937febfc79bbf97c251c03d6"
   }
  }
 },
 "nbformat": 4,
 "nbformat_minor": 2
}
